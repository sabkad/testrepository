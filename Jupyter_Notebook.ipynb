{
 "cells": [
  {
   "cell_type": "markdown",
   "metadata": {},
   "source": [
    "<center>\n",
    "    <img src=\"https://cf-courses-data.s3.us.cloud-object-storage.appdomain.cloud/IBMDeveloperSkillsNetwork-DS0105EN-SkillsNetwork/labs/Module2/images/SN_web_lightmode.png\" width=\"300\" alt=\"cognitiveclass.ai logo\">\n",
    "</center>\n"
   ]
  },
  {
   "cell_type": "markdown",
   "metadata": {
    "tags": []
   },
   "source": [
    "# My Jupyter Notebook on IBM Watson Studio"
   ]
  },
  {
   "cell_type": "markdown",
   "metadata": {},
   "source": [
    "**Sabrina Kadirova**\n",
    "\n",
    "\n",
    "Self-taught Data Scientist at Paymona startup.  \n",
    "I would like to become a highly professional Data Scientist working on complex, large, but interesting and useful projects."
   ]
  },
  {
   "cell_type": "markdown",
   "metadata": {},
   "source": [
    "*I am interested in Data Science because I like to solve problems that require analytical, logical, creative thinking. I like the feeling when I find a solution and thereby solve a problem and bring benefits.*"
   ]
  },
  {
   "cell_type": "markdown",
   "metadata": {},
   "source": [
    "### The following piece of code sums any set of numbers together and prints the result."
   ]
  },
  {
   "cell_type": "code",
   "execution_count": 1,
   "metadata": {
    "tags": []
   },
   "outputs": [
    {
     "name": "stdout",
     "output_type": "stream",
     "text": [
      "Result:  28\n"
     ]
    }
   ],
   "source": [
    "list_of_numbers = [1, 2, 3, 4, 5, 6, 7]\n",
    "\n",
    "def sum_all(list): \n",
    "    print('Result: ', sum(list))\n",
    "    \n",
    "sum_all(list_of_numbers)"
   ]
  },
  {
   "cell_type": "markdown",
   "metadata": {},
   "source": [
    "**Code Explanation**"
   ]
  },
  {
   "cell_type": "markdown",
   "metadata": {},
   "source": [
    "- `list_of_numbers = [1, 2, 3, 4, 5, 6, 7]` - the name of the list followed by the list itself enclosed in the squared brackets. \n",
    "- `def sum_all(list)` - first goes a keyword `def` used to declare a function, then its name `sum_all` and the argument `(list)`, which is basically any value that will be passed to the function. In this case the values are a set of digits. \n",
    "- `print()` - this function prints the specified message to the screen, or other standard output advice. \n",
    "- `sum()` - function adds the items of an iterable and returns the sum.\n",
    "- `sum_all(list_of_numbers)` - this line executes a function with list of numbers that were defined above to add up all the values of the list together and print the result. "
   ]
  },
  {
   "cell_type": "markdown",
   "metadata": {},
   "source": [
    "<hr>"
   ]
  },
  {
   "cell_type": "markdown",
   "metadata": {},
   "source": [
    "**Open standards for model deployment:** \n",
    "- Predictive Model Markup Language\n",
    "- Portable Format for Analytics\n",
    "- Open Neural Network Exchange "
   ]
  },
  {
   "cell_type": "markdown",
   "metadata": {},
   "source": [
    "----"
   ]
  },
  {
   "cell_type": "markdown",
   "metadata": {},
   "source": [
    "**Topics covered in the last week:**\n",
    "1. Data Scientist’s toolkit.\n",
    "2. Jupyter notebook and Jupyter lab.  \n",
    "3. What is IBM Watson studio?"
   ]
  },
  {
   "cell_type": "markdown",
   "metadata": {},
   "source": [
    "**Tracking the amount of time spent per topic.**"
   ]
  },
  {
   "cell_type": "markdown",
   "metadata": {},
   "source": [
    "| № | From | To | Topic |\n",
    "| ------ | ------ | ------ | ------ |\n",
    "| 1 | March 2, 2023 | March 4, 2023 | Data Scientist’s toolkit. |\n",
    "| 2 | March 4, 2023 | March 6, 2023 | Jupyter notebook and Jupyter lab. |\n",
    "| 3 | March 6, 2023 | March 7, 2023 | What is IBM Watson studio? |"
   ]
  },
  {
   "cell_type": "markdown",
   "metadata": {},
   "source": [
    "<hr/>"
   ]
  },
  {
   "cell_type": "markdown",
   "metadata": {},
   "source": [
    "This is one of my favorite paintings by the amazing artist Vincent van Gogh. If you like it too, you can read about it at the following <a href=\"https://en.wikipedia.org/wiki/Almond_Blossoms\">link</a>.   "
   ]
  },
  {
   "cell_type": "markdown",
   "metadata": {},
   "source": [
    "<img src=\"https://iiif.micr.io/rAERt/full/1280,/0/default.jpg\" width=\"350\" style=\"margin-left:auto; margin-right:auto\"/>"
   ]
  },
  {
   "cell_type": "markdown",
   "metadata": {},
   "source": [
    "I also leave one of the inspiring quotes from this artist: "
   ]
  },
  {
   "cell_type": "markdown",
   "metadata": {},
   "source": [
    "> “Great things are not done by impulse, but by a series of small things brought together.”"
   ]
  },
  {
   "cell_type": "markdown",
   "metadata": {},
   "source": [
    "----"
   ]
  },
  {
   "cell_type": "markdown",
   "metadata": {},
   "source": [
    "~~The end.~~"
   ]
  },
  {
   "cell_type": "markdown",
   "metadata": {},
   "source": [
    "To be continued."
   ]
  }
 ],
 "metadata": {
  "kernelspec": {
   "display_name": "Python",
   "language": "python",
   "name": "conda-env-python-py"
  },
  "language_info": {
   "codemirror_mode": {
    "name": "ipython",
    "version": 3
   },
   "file_extension": ".py",
   "mimetype": "text/x-python",
   "name": "python",
   "nbconvert_exporter": "python",
   "pygments_lexer": "ipython3",
   "version": "3.7.12"
  }
 },
 "nbformat": 4,
 "nbformat_minor": 4
}
